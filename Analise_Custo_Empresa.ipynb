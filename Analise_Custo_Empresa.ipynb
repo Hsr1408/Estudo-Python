{
 "cells": [
  {
   "attachments": {},
   "cell_type": "markdown",
   "metadata": {},
   "source": [
    "# Análise de Custos Empresa"
   ]
  },
  {
   "attachments": {},
   "cell_type": "markdown",
   "metadata": {},
   "source": [
    "### Desenvolvido por: Higor Silva Rodrigues\n",
    "#### Desenvolvido em: 13/06/2023\n",
    "##### Versão: 1.0.0"
   ]
  },
  {
   "attachments": {},
   "cell_type": "markdown",
   "metadata": {},
   "source": [
    "##### Utilização de Clases"
   ]
  },
  {
   "cell_type": "code",
   "execution_count": 366,
   "metadata": {},
   "outputs": [],
   "source": [
    "# Para o funcionamento deste código se faz necessario a instalação da Biblioteca pip install fpdf\n",
    "\n",
    "from fpdf import FPDF\n",
    "\n",
    "\n",
    "class Faturamento:\n",
    "    def __init__(self,empresa, faturamento,deducoes, honorarios):\n",
    "        self.__empresa = str.upper(empresa) \n",
    "        self.__faturamento = faturamento\n",
    "        self.__deducoes = deducoes\n",
    "        self.__honorarios = honorarios\n",
    "    \n",
    "    \n",
    "    @property\n",
    "    def __simples_nacional(self):\n",
    "        # Método Simples Nacional \n",
    "        return round(self.__faturamento * 0.06,2)\n",
    "       \n",
    "    @property\n",
    "    def __pro_labore(self):\n",
    "        # Método Pro-Labore\n",
    "        return round(self.__faturamento * 0.28,2)\n",
    "    \n",
    "    @property \n",
    "    def __inss_pro_labore(self):\n",
    "        # Método Inss Pro-Labore\n",
    "        return round(self.__pro_labore * 0.11,2)\n",
    "    \n",
    "    @property\n",
    "    def __base_irpj(self):\n",
    "        # Método Base de IRPJ\n",
    "        return round(self.__pro_labore - self.__inss_pro_labore,2)\n",
    "    \n",
    "    @property\n",
    "    def __faixa_tributacao(self):\n",
    "        # Método Faixa Tributacao\n",
    "        return round(self.__base_irpj * 0.15)\n",
    "    \n",
    "    @property\n",
    "    def __parcela_deduzir(self):\n",
    "        # Método Parcela á Deduzir\n",
    "        return round(self.__deducoes,2)\n",
    "    \n",
    "    @property\n",
    "    def __irrf_dif_alicota(self):\n",
    "        # Método IRRF Diferença de Alicota\n",
    "        return  round(self.__faixa_tributacao - self.__parcela_deduzir,2) \n",
    "    \n",
    "    @property\n",
    "    def __imposto_total(self):\n",
    "        # Método Imposto Total\n",
    "        return round(self.__simples_nacional + self.__inss_pro_labore + self.__irrf_dif_alicota,2) \n",
    "    \n",
    "    @property\n",
    "    def __depesas_honorarios(self):\n",
    "        # Método Despesas com Honorários\n",
    "        return round(self.__imposto_total + self.__honorarios)\n",
    "    \n",
    "    @property\n",
    "    def __faturamento_liquido(self):\n",
    "        # Método Faturamento Liquido\n",
    "        return round(self.__faturamento - self.__depesas_honorarios,2)\n",
    "    \n",
    "    \n",
    "    @property\n",
    "    def imprimir(self):\n",
    "        \n",
    "        # Criando PDF\n",
    "        pdf = FPDF()\n",
    "        \n",
    "        # Adicionando Pagina\n",
    "        pdf.add_page()\n",
    "        \n",
    "        # Definindo o Texto do Arquivo\n",
    "        texto = [f'ANÁLISE DE FATURAMENTO - {self.__empresa}',\n",
    "                 f'Faturamento Bruto: {self.__faturamento}',\n",
    "                 f'Simples Nacional 6% do Faturamento: {self.__simples_nacional}',\n",
    "                 f'Pró-Labore 28% do Faturamento : {self.__pro_labore}',\n",
    "                 f'INSS 11% do Pró-Labor: {self.__inss_pro_labore}',\n",
    "                 f'Base de Calculo IRRF (Pró-Labore - INSS) : {self.__base_irpj}',\n",
    "                 f'Faixa de Tributação de Acordo com B.C 15% (A) : {self.__faixa_tributacao}',\n",
    "                 f'Parcela a Deduzir de acordo com a Faixa de Tributação : {self.__deducoes}',\n",
    "                 f'IRRF (A-B) : {self.__irrf_dif_alicota}',\n",
    "                 f'Total de Imposto  + Contribuição Previdenciaria : {self.__imposto_total}',\n",
    "                 f'Honorarios : {self.__honorarios}',\n",
    "                 f'Despesas + Honorarios : {self.__depesas_honorarios}',\n",
    "                 f'Faturamento Liquido : {self.__faturamento_liquido}',\n",
    "                 f'']\n",
    "        # Imprimindo as informações na Página do PDF\n",
    "        for t in texto:\n",
    "            if t == f'ANÁLISE DE FATURAMENTO - {self.__empresa}':\n",
    "                pdf.set_font('Arial','b', size=16)\n",
    "                pdf.set_text_color(0,0,139)\n",
    "                pdf.cell(0,10,txt=t, ln=1, align='C')\n",
    "                pdf.ln(20)\n",
    "                \n",
    "            else:\n",
    "                pdf.set_font('Arial', size=14)\n",
    "                pdf.set_text_color(0,0,0)\n",
    "                pdf.cell(0,10,txt=t, ln=2, align='C')\n",
    "                pdf.ln(5)\n",
    "                \n",
    "        # Salvando PDF na mesma pasta do arquivo\n",
    "        pdf.output(f'Analise de Faturamento - {self.__empresa}.pdf')\n",
    "        \n",
    "    "
   ]
  },
  {
   "attachments": {},
   "cell_type": "markdown",
   "metadata": {},
   "source": [
    "#### Inserindo Dados"
   ]
  },
  {
   "cell_type": "code",
   "execution_count": 367,
   "metadata": {},
   "outputs": [],
   "source": [
    "empresa = Faturamento('ABC Consultoria',10200.00,354.8,199.90)\n"
   ]
  },
  {
   "attachments": {},
   "cell_type": "markdown",
   "metadata": {},
   "source": [
    "#### Imprimindo Extrato"
   ]
  },
  {
   "cell_type": "code",
   "execution_count": 368,
   "metadata": {},
   "outputs": [],
   "source": [
    "empresa.imprimir "
   ]
  }
 ],
 "metadata": {
  "kernelspec": {
   "display_name": "Python 3",
   "language": "python",
   "name": "python3"
  },
  "language_info": {
   "codemirror_mode": {
    "name": "ipython",
    "version": 3
   },
   "file_extension": ".py",
   "mimetype": "text/x-python",
   "name": "python",
   "nbconvert_exporter": "python",
   "pygments_lexer": "ipython3",
   "version": "3.9.12"
  },
  "orig_nbformat": 4
 },
 "nbformat": 4,
 "nbformat_minor": 2
}
